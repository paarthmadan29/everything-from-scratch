{
 "cells": [
  {
   "cell_type": "code",
   "execution_count": 1,
   "id": "169ab9d1",
   "metadata": {},
   "outputs": [],
   "source": [
    "# I have some data points X and the corresponding labels y (0 or 1)\n",
    "\n",
    "# X is a continous data with each data point being a 2 dimensional vector"
   ]
  },
  {
   "cell_type": "code",
   "execution_count": 2,
   "id": "d5c782b1",
   "metadata": {},
   "outputs": [],
   "source": [
    "import numpy as np"
   ]
  },
  {
   "cell_type": "code",
   "execution_count": null,
   "id": "79511b7f",
   "metadata": {},
   "outputs": [],
   "source": []
  },
  {
   "cell_type": "code",
   "execution_count": 22,
   "id": "29329432",
   "metadata": {},
   "outputs": [],
   "source": [
    "np.random.seed(32)\n",
    "x = np.random.rand(2)"
   ]
  },
  {
   "cell_type": "code",
   "execution_count": 64,
   "id": "45d96c79",
   "metadata": {},
   "outputs": [],
   "source": [
    "X = np.random.rand(100, 1)\n",
    "y = np.random.randint(2, size=100)"
   ]
  },
  {
   "cell_type": "code",
   "execution_count": 65,
   "id": "f70b6133",
   "metadata": {},
   "outputs": [
    {
     "data": {
      "text/plain": [
       "array([0.15970447])"
      ]
     },
     "execution_count": 65,
     "metadata": {},
     "output_type": "execute_result"
    }
   ],
   "source": [
    "X[0]"
   ]
  },
  {
   "cell_type": "code",
   "execution_count": 66,
   "id": "e10a8b31",
   "metadata": {},
   "outputs": [],
   "source": [
    "n = len(X) # length of dataset"
   ]
  },
  {
   "cell_type": "code",
   "execution_count": 67,
   "id": "d121b216",
   "metadata": {},
   "outputs": [],
   "source": [
    "dataset = [(X[i], y[i]) for i in range(n)]"
   ]
  },
  {
   "cell_type": "code",
   "execution_count": 68,
   "id": "67106627",
   "metadata": {},
   "outputs": [],
   "source": [
    "import matplotlib.pyplot as plt"
   ]
  },
  {
   "cell_type": "code",
   "execution_count": 72,
   "id": "57a7f58c",
   "metadata": {},
   "outputs": [
    {
     "data": {
      "text/plain": [
       "<matplotlib.collections.PathCollection at 0x127914a10>"
      ]
     },
     "execution_count": 72,
     "metadata": {},
     "output_type": "execute_result"
    },
    {
     "data": {
      "image/png": "[encoded data removed]",
      "text/plain": [
       "<Figure size 640x480 with 1 Axes>"
      ]
     },
     "metadata": {},
     "output_type": "display_data"
    }
   ],
   "source": [
    "plt.scatter(X, y)"
   ]
  },
  {
   "cell_type": "code",
   "execution_count": 73,
   "id": "4927ef1c",
   "metadata": {},
   "outputs": [],
   "source": [
    "def sigmoid(z):\n",
    "    return 1 / (1 + np.exp(-z))\n",
    "    "
   ]
  },
  {
   "cell_type": "code",
   "execution_count": 74,
   "id": "1906ba5b",
   "metadata": {},
   "outputs": [
    {
     "data": {
      "text/plain": [
       "(100, 1)"
      ]
     },
     "execution_count": 74,
     "metadata": {},
     "output_type": "execute_result"
    }
   ],
   "source": [
    "X.shape"
   ]
  },
  {
   "cell_type": "code",
   "execution_count": 75,
   "id": "8205f04d",
   "metadata": {},
   "outputs": [
    {
     "data": {
      "text/plain": [
       "(1,)"
      ]
     },
     "execution_count": 75,
     "metadata": {},
     "output_type": "execute_result"
    }
   ],
   "source": [
    "np.zeros(1).shape"
   ]
  },
  {
   "cell_type": "code",
   "execution_count": 76,
   "id": "4580dde7",
   "metadata": {},
   "outputs": [],
   "source": [
    "def fit(X, y, lr=0.01, epochs=100, lambda_penalty=0.0001):\n",
    "    n, p = X.shape\n",
    "    W = np.zeros(p)\n",
    "    for _ in range(epochs):\n",
    "        z = X @ W\n",
    "        pred = sigmoid(z)\n",
    "        \n",
    "        # loss = y * np.log(pred) + (1-y) * np.log(1-pred) + lambda_penalty * W\n",
    "        \n",
    "        grad = (X.T @ (pred-y)) / n + lambda_penalty * W\n",
    "        \n",
    "        W -= grad * lr\n",
    "    return W\n",
    "        \n",
    "        "
   ]
  },
  {
   "cell_type": "code",
   "execution_count": 77,
   "id": "aa0ec00e",
   "metadata": {},
   "outputs": [],
   "source": [
    "def predict_proba(X, W):\n",
    "    return sigmoid(X @ W)"
   ]
  },
  {
   "cell_type": "code",
   "execution_count": 87,
   "id": "98f079e4",
   "metadata": {},
   "outputs": [],
   "source": [
    "X_train, y_train = X[:80], y[:80]\n",
    "X_test, y_test = X[81:], y[81:]"
   ]
  },
  {
   "cell_type": "code",
   "execution_count": 1,
   "id": "30720b49",
   "metadata": {},
   "outputs": [],
   "source": [
    "import pandas as pd"
   ]
  },
  {
   "cell_type": "code",
   "execution_count": null,
   "id": "070f4973",
   "metadata": {},
   "outputs": [],
   "source": []
  },
  {
   "cell_type": "code",
   "execution_count": 2,
   "id": "f62d6079",
   "metadata": {},
   "outputs": [
    {
     "data": {
      "text/html": [
       "<div>\n",
       "<style scoped>\n",
       "    .dataframe tbody tr th:only-of-type {\n",
       "        vertical-align: middle;\n",
       "    }\n",
       "\n",
       "    .dataframe tbody tr th {\n",
       "        vertical-align: top;\n",
       "    }\n",
       "\n",
       "    .dataframe thead th {\n",
       "        text-align: right;\n",
       "    }\n",
       "</style>\n",
       "<table border=\"1\" class=\"dataframe\">\n",
       "  <thead>\n",
       "    <tr style=\"text-align: right;\">\n",
       "      <th></th>\n",
       "      <th>x1</th>\n",
       "      <th>x2</th>\n",
       "      <th>x3</th>\n",
       "      <th>x4</th>\n",
       "      <th>y</th>\n",
       "    </tr>\n",
       "  </thead>\n",
       "  <tbody>\n",
       "    <tr>\n",
       "      <th>0</th>\n",
       "      <td>0.304717</td>\n",
       "      <td>-1.039984</td>\n",
       "      <td>0.750451</td>\n",
       "      <td>0.940565</td>\n",
       "      <td>1</td>\n",
       "    </tr>\n",
       "    <tr>\n",
       "      <th>1</th>\n",
       "      <td>-1.951035</td>\n",
       "      <td>-1.302180</td>\n",
       "      <td>0.127840</td>\n",
       "      <td>-0.316243</td>\n",
       "      <td>0</td>\n",
       "    </tr>\n",
       "    <tr>\n",
       "      <th>2</th>\n",
       "      <td>-0.016801</td>\n",
       "      <td>-0.853044</td>\n",
       "      <td>0.879398</td>\n",
       "      <td>0.777792</td>\n",
       "      <td>1</td>\n",
       "    </tr>\n",
       "    <tr>\n",
       "      <th>3</th>\n",
       "      <td>0.066031</td>\n",
       "      <td>1.127241</td>\n",
       "      <td>0.467509</td>\n",
       "      <td>-0.859292</td>\n",
       "      <td>0</td>\n",
       "    </tr>\n",
       "    <tr>\n",
       "      <th>4</th>\n",
       "      <td>0.368751</td>\n",
       "      <td>-0.958883</td>\n",
       "      <td>0.878450</td>\n",
       "      <td>-0.049926</td>\n",
       "      <td>1</td>\n",
       "    </tr>\n",
       "  </tbody>\n",
       "</table>\n",
       "</div>"
      ],
      "text/plain": [
       "         x1        x2        x3        x4  y\n",
       "0  0.304717 -1.039984  0.750451  0.940565  1\n",
       "1 -1.951035 -1.302180  0.127840 -0.316243  0\n",
       "2 -0.016801 -0.853044  0.879398  0.777792  1\n",
       "3  0.066031  1.127241  0.467509 -0.859292  0\n",
       "4  0.368751 -0.958883  0.878450 -0.049926  1"
      ]
     },
     "execution_count": 2,
     "metadata": {},
     "output_type": "execute_result"
    }
   ],
   "source": [
    "data = pd.read_csv(\"./data/dummy_logreg_data.csv\")\n",
    "data.head()"
   ]
  },
  {
   "cell_type": "code",
   "execution_count": 5,
   "id": "050d8785",
   "metadata": {},
   "outputs": [],
   "source": [
    "X = data.iloc[:, :-1]"
   ]
  },
  {
   "cell_type": "code",
   "execution_count": null,
   "id": "a6cb725f",
   "metadata": {},
   "outputs": [
    {
     "data": {
      "text/plain": [
       "['x1', 'x2', 'x3', 'x4']"
      ]
     },
     "execution_count": 11,
     "metadata": {},
     "output_type": "execute_result"
    }
   ],
   "source": [
    "\"\"\"\n",
    "OR function\n",
    "0, 1, -> 1\n",
    "1, 0 -> 1\n",
    "1, 1 -> 1\n",
    "0, 0 -> 0\n",
    "\"\"\"\n"
   ]
  },
  {
   "cell_type": "markdown",
   "id": "85d378ef",
   "metadata": {},
   "source": [
    "## Logistic Regression\n",
    "\n",
    "A <b>supervised learning</b> method (where both inputs and outputs are available) used in <b>Binary Classification</b> tasks. <br>\n",
    "Given some input data (continuous or categorical), the model outputs a probability between 0 and 1 [bounded]\n"
   ]
  },
  {
   "cell_type": "markdown",
   "id": "54fe5c99",
   "metadata": {},
   "source": [
    "Core of Logistic Regression is <b>Sigmoid function</b> which maps any real-valued input to the range of (0,1), making a representation of probability. <br>\n",
    "It squashes the large positive values near 1 and learge negative values near 0 with f(z=0) = 0.5\n"
   ]
  },
  {
   "cell_type": "code",
   "execution_count": 12,
   "id": "82bb57a8",
   "metadata": {},
   "outputs": [],
   "source": [
    "def sigmoid(z):\n",
    "    return 1 / (1 + np.exp(-z))"
   ]
  },
  {
   "cell_type": "markdown",
   "id": "a21df5ed",
   "metadata": {},
   "source": [
    "z = x1 x w1 + x2 x w2 + ... + b <br>\n",
    "z = x.T @ W + b -> logit or log-odds of the positive class <br>\n",
    "prob = sigmoid(z)  -> (0, 1)"
   ]
  },
  {
   "cell_type": "markdown",
   "id": "e11c42e5",
   "metadata": {},
   "source": [
    "Weights and biases is learned via the Maximum Likelihood Estimation (MLE) <br>\n",
    "\n",
    "Likelihood of the data ($x_i, y_i$), m samples assuming each sample is independent: <br>\n",
    "\n",
    "L(w, b) = $\\prod_{i=1}^{m} P(y_i | x_i ;w, b)$"
   ]
  },
  {
   "cell_type": "markdown",
   "id": "0f8fa3ff",
   "metadata": {},
   "source": [
    "$P(y=1|x;w,b) = \\sigma(w.x + b)$ <br>\n",
    "$P(y=0|x;w,b) = 1- \\sigma(w.x + b)$"
   ]
  },
  {
   "cell_type": "markdown",
   "id": "7fa3d0df",
   "metadata": {},
   "source": []
  },
  {
   "cell_type": "code",
   "execution_count": 14,
   "id": "d3e7e372",
   "metadata": {},
   "outputs": [
    {
     "data": {
      "text/html": [
       "<div>\n",
       "<style scoped>\n",
       "    .dataframe tbody tr th:only-of-type {\n",
       "        vertical-align: middle;\n",
       "    }\n",
       "\n",
       "    .dataframe tbody tr th {\n",
       "        vertical-align: top;\n",
       "    }\n",
       "\n",
       "    .dataframe thead th {\n",
       "        text-align: right;\n",
       "    }\n",
       "</style>\n",
       "<table border=\"1\" class=\"dataframe\">\n",
       "  <thead>\n",
       "    <tr style=\"text-align: right;\">\n",
       "      <th></th>\n",
       "      <th>x1</th>\n",
       "      <th>x2</th>\n",
       "      <th>x3</th>\n",
       "      <th>x4</th>\n",
       "      <th>y</th>\n",
       "    </tr>\n",
       "  </thead>\n",
       "  <tbody>\n",
       "    <tr>\n",
       "      <th>0</th>\n",
       "      <td>0.304717</td>\n",
       "      <td>-1.039984</td>\n",
       "      <td>0.750451</td>\n",
       "      <td>0.940565</td>\n",
       "      <td>1</td>\n",
       "    </tr>\n",
       "    <tr>\n",
       "      <th>1</th>\n",
       "      <td>-1.951035</td>\n",
       "      <td>-1.302180</td>\n",
       "      <td>0.127840</td>\n",
       "      <td>-0.316243</td>\n",
       "      <td>0</td>\n",
       "    </tr>\n",
       "    <tr>\n",
       "      <th>2</th>\n",
       "      <td>-0.016801</td>\n",
       "      <td>-0.853044</td>\n",
       "      <td>0.879398</td>\n",
       "      <td>0.777792</td>\n",
       "      <td>1</td>\n",
       "    </tr>\n",
       "    <tr>\n",
       "      <th>3</th>\n",
       "      <td>0.066031</td>\n",
       "      <td>1.127241</td>\n",
       "      <td>0.467509</td>\n",
       "      <td>-0.859292</td>\n",
       "      <td>0</td>\n",
       "    </tr>\n",
       "    <tr>\n",
       "      <th>4</th>\n",
       "      <td>0.368751</td>\n",
       "      <td>-0.958883</td>\n",
       "      <td>0.878450</td>\n",
       "      <td>-0.049926</td>\n",
       "      <td>1</td>\n",
       "    </tr>\n",
       "    <tr>\n",
       "      <th>...</th>\n",
       "      <td>...</td>\n",
       "      <td>...</td>\n",
       "      <td>...</td>\n",
       "      <td>...</td>\n",
       "      <td>...</td>\n",
       "    </tr>\n",
       "    <tr>\n",
       "      <th>995</th>\n",
       "      <td>0.327411</td>\n",
       "      <td>-0.255640</td>\n",
       "      <td>-0.357530</td>\n",
       "      <td>-1.367754</td>\n",
       "      <td>0</td>\n",
       "    </tr>\n",
       "    <tr>\n",
       "      <th>996</th>\n",
       "      <td>-0.805918</td>\n",
       "      <td>-0.622008</td>\n",
       "      <td>-1.123972</td>\n",
       "      <td>0.439924</td>\n",
       "      <td>0</td>\n",
       "    </tr>\n",
       "    <tr>\n",
       "      <th>997</th>\n",
       "      <td>1.196628</td>\n",
       "      <td>-0.908062</td>\n",
       "      <td>0.283441</td>\n",
       "      <td>-1.034111</td>\n",
       "      <td>1</td>\n",
       "    </tr>\n",
       "    <tr>\n",
       "      <th>998</th>\n",
       "      <td>-0.304922</td>\n",
       "      <td>-0.690330</td>\n",
       "      <td>0.601896</td>\n",
       "      <td>-0.678788</td>\n",
       "      <td>0</td>\n",
       "    </tr>\n",
       "    <tr>\n",
       "      <th>999</th>\n",
       "      <td>1.011660</td>\n",
       "      <td>-0.245721</td>\n",
       "      <td>-0.649604</td>\n",
       "      <td>-1.253305</td>\n",
       "      <td>1</td>\n",
       "    </tr>\n",
       "  </tbody>\n",
       "</table>\n",
       "<p>1000 rows × 5 columns</p>\n",
       "</div>"
      ],
      "text/plain": [
       "           x1        x2        x3        x4  y\n",
       "0    0.304717 -1.039984  0.750451  0.940565  1\n",
       "1   -1.951035 -1.302180  0.127840 -0.316243  0\n",
       "2   -0.016801 -0.853044  0.879398  0.777792  1\n",
       "3    0.066031  1.127241  0.467509 -0.859292  0\n",
       "4    0.368751 -0.958883  0.878450 -0.049926  1\n",
       "..        ...       ...       ...       ... ..\n",
       "995  0.327411 -0.255640 -0.357530 -1.367754  0\n",
       "996 -0.805918 -0.622008 -1.123972  0.439924  0\n",
       "997  1.196628 -0.908062  0.283441 -1.034111  1\n",
       "998 -0.304922 -0.690330  0.601896 -0.678788  0\n",
       "999  1.011660 -0.245721 -0.649604 -1.253305  1\n",
       "\n",
       "[1000 rows x 5 columns]"
      ]
     },
     "execution_count": 14,
     "metadata": {},
     "output_type": "execute_result"
    }
   ],
   "source": [
    "data"
   ]
  },
  {
   "cell_type": "code",
   "execution_count": 30,
   "id": "bf769a30",
   "metadata": {},
   "outputs": [],
   "source": [
    "import numpy as np"
   ]
  },
  {
   "cell_type": "code",
   "execution_count": 34,
   "id": "9009f367",
   "metadata": {},
   "outputs": [
    {
     "data": {
      "text/plain": [
       "(1000, 4)"
      ]
     },
     "execution_count": 34,
     "metadata": {},
     "output_type": "execute_result"
    }
   ],
   "source": [
    "X = np.array(data.iloc[:, :-1])\n",
    "X.shape"
   ]
  },
  {
   "cell_type": "code",
   "execution_count": 21,
   "id": "6c989931",
   "metadata": {},
   "outputs": [],
   "source": [
    "y = data.iloc[:, -1].to_list()"
   ]
  },
  {
   "cell_type": "code",
   "execution_count": null,
   "id": "3f4a0667",
   "metadata": {},
   "outputs": [],
   "source": [
    "\n",
    "w = np.random.rand(10, 4)"
   ]
  },
  {
   "cell_type": "code",
   "execution_count": 49,
   "id": "0f1cecaf",
   "metadata": {},
   "outputs": [
    {
     "data": {
      "text/plain": [
       "array([[0.98619273],\n",
       "       [0.33329567],\n",
       "       [0.43042797],\n",
       "       [0.05821933]])"
      ]
     },
     "execution_count": 49,
     "metadata": {},
     "output_type": "execute_result"
    }
   ],
   "source": [
    "w"
   ]
  },
  {
   "cell_type": "code",
   "execution_count": 51,
   "id": "316f59b3",
   "metadata": {},
   "outputs": [
    {
     "data": {
      "text/plain": [
       "array([ 0.30471708, -1.03998411,  0.7504512 ,  0.94056472])"
      ]
     },
     "execution_count": 51,
     "metadata": {},
     "output_type": "execute_result"
    }
   ],
   "source": [
    "X[0]"
   ]
  },
  {
   "cell_type": "code",
   "execution_count": null,
   "id": "af8abe48",
   "metadata": {},
   "outputs": [
    {
     "data": {
      "text/plain": [
       "array([0.33166181])"
      ]
     },
     "execution_count": 52,
     "metadata": {},
     "output_type": "execute_result"
    }
   ],
   "source": [
    "sum([w[i]*X[0][i] for i in range(4)])\n"
   ]
  },
  {
   "cell_type": "code",
   "execution_count": 50,
   "id": "742dbe2d",
   "metadata": {},
   "outputs": [
    {
     "data": {
      "text/plain": [
       "array([0.33166181])"
      ]
     },
     "execution_count": 50,
     "metadata": {},
     "output_type": "execute_result"
    }
   ],
   "source": [
    "X[0] @ w"
   ]
  },
  {
   "cell_type": "code",
   "execution_count": 53,
   "id": "a0d72bdc",
   "metadata": {},
   "outputs": [],
   "source": [
    "from tqdm import tqdm"
   ]
  },
  {
   "cell_type": "code",
   "execution_count": 54,
   "id": "de460ab5",
   "metadata": {},
   "outputs": [
    {
     "data": {
      "text/plain": [
       "(1000, 4)"
      ]
     },
     "execution_count": 54,
     "metadata": {},
     "output_type": "execute_result"
    }
   ],
   "source": [
    "X.shape"
   ]
  },
  {
   "cell_type": "code",
   "execution_count": 59,
   "id": "22bc0eaf",
   "metadata": {},
   "outputs": [
    {
     "data": {
      "text/plain": [
       "((4,), (1000, 4))"
      ]
     },
     "execution_count": 59,
     "metadata": {},
     "output_type": "execute_result"
    }
   ],
   "source": [
    "w.shape, X.shape"
   ]
  },
  {
   "cell_type": "code",
   "execution_count": 66,
   "id": "b7df9e6a",
   "metadata": {},
   "outputs": [
    {
     "name": "stderr",
     "output_type": "stream",
     "text": [
      "/var/folders/df/wgnlsfps4bj0lgg0jt11vy200000gn/T/ipykernel_70810/1549639326.py:1: RuntimeWarning: divide by zero encountered in matmul\n",
      "  (X @ w).shape\n",
      "/var/folders/df/wgnlsfps4bj0lgg0jt11vy200000gn/T/ipykernel_70810/1549639326.py:1: RuntimeWarning: overflow encountered in matmul\n",
      "  (X @ w).shape\n",
      "/var/folders/df/wgnlsfps4bj0lgg0jt11vy200000gn/T/ipykernel_70810/1549639326.py:1: RuntimeWarning: invalid value encountered in matmul\n",
      "  (X @ w).shape\n"
     ]
    },
    {
     "data": {
      "text/plain": [
       "(1000,)"
      ]
     },
     "execution_count": 66,
     "metadata": {},
     "output_type": "execute_result"
    }
   ],
   "source": [
    "(X @ w).shape"
   ]
  },
  {
   "cell_type": "code",
   "execution_count": 65,
   "id": "9beada4f",
   "metadata": {},
   "outputs": [
    {
     "name": "stderr",
     "output_type": "stream",
     "text": [
      "/var/folders/df/wgnlsfps4bj0lgg0jt11vy200000gn/T/ipykernel_70810/629168466.py:1: RuntimeWarning: divide by zero encountered in matmul\n",
      "  (w @ X.T).shape\n",
      "/var/folders/df/wgnlsfps4bj0lgg0jt11vy200000gn/T/ipykernel_70810/629168466.py:1: RuntimeWarning: overflow encountered in matmul\n",
      "  (w @ X.T).shape\n",
      "/var/folders/df/wgnlsfps4bj0lgg0jt11vy200000gn/T/ipykernel_70810/629168466.py:1: RuntimeWarning: invalid value encountered in matmul\n",
      "  (w @ X.T).shape\n"
     ]
    },
    {
     "data": {
      "text/plain": [
       "(1000,)"
      ]
     },
     "execution_count": 65,
     "metadata": {},
     "output_type": "execute_result"
    }
   ],
   "source": [
    "(w @ X.T).shape"
   ]
  },
  {
   "cell_type": "code",
   "execution_count": 67,
   "id": "6a14324d",
   "metadata": {},
   "outputs": [
    {
     "data": {
      "text/plain": [
       "array([0.73105858, 0.73105858, 0.73105858, 0.73105858])"
      ]
     },
     "execution_count": 67,
     "metadata": {},
     "output_type": "execute_result"
    }
   ],
   "source": [
    "sigmoid(w)"
   ]
  },
  {
   "cell_type": "code",
   "execution_count": 80,
   "id": "01046001",
   "metadata": {},
   "outputs": [
    {
     "name": "stderr",
     "output_type": "stream",
     "text": [
      "training:   0%|          | 0/1000 [00:00<?, ?it/s]/var/folders/df/wgnlsfps4bj0lgg0jt11vy200000gn/T/ipykernel_70810/3133724060.py:9: RuntimeWarning: divide by zero encountered in matmul\n",
      "  logits = X @ w # (1000,)\n",
      "/var/folders/df/wgnlsfps4bj0lgg0jt11vy200000gn/T/ipykernel_70810/3133724060.py:9: RuntimeWarning: overflow encountered in matmul\n",
      "  logits = X @ w # (1000,)\n",
      "/var/folders/df/wgnlsfps4bj0lgg0jt11vy200000gn/T/ipykernel_70810/3133724060.py:9: RuntimeWarning: invalid value encountered in matmul\n",
      "  logits = X @ w # (1000,)\n",
      "/var/folders/df/wgnlsfps4bj0lgg0jt11vy200000gn/T/ipykernel_70810/3133724060.py:12: RuntimeWarning: divide by zero encountered in log\n",
      "  loss = (-1/num_samples) * (1*np.log(pred) + (1-1) * np.log(1-pred))\n",
      "/var/folders/df/wgnlsfps4bj0lgg0jt11vy200000gn/T/ipykernel_70810/3133724060.py:12: RuntimeWarning: invalid value encountered in multiply\n",
      "  loss = (-1/num_samples) * (1*np.log(pred) + (1-1) * np.log(1-pred))\n",
      "training: 100%|██████████| 1000/1000 [00:00<00:00, 13007.61it/s]"
     ]
    },
    {
     "name": "stdout",
     "output_type": "stream",
     "text": [
      "Epoch: 0: loss: 0.6931471805599453\n",
      "Epoch: 1: loss: nan\n",
      "Epoch: 2: loss: nan\n",
      "Epoch: 3: loss: nan\n",
      "Epoch: 4: loss: nan\n",
      "Epoch: 5: loss: 4.601837290965479\n",
      "Epoch: 6: loss: 2.4488633666758632\n",
      "Epoch: 7: loss: 2.290906744544232\n",
      "Epoch: 8: loss: nan\n",
      "Epoch: 9: loss: nan\n",
      "Epoch: 10: loss: nan\n",
      "Epoch: 11: loss: nan\n",
      "Epoch: 12: loss: nan\n",
      "Epoch: 13: loss: 4.720579103660488\n",
      "Epoch: 14: loss: 2.4973118300400334\n",
      "Epoch: 15: loss: 3.765032321622475\n",
      "Epoch: 16: loss: nan\n",
      "Epoch: 17: loss: nan\n",
      "Epoch: 18: loss: nan\n",
      "Epoch: 19: loss: nan\n",
      "Epoch: 20: loss: nan\n",
      "Epoch: 21: loss: 4.538648106078696\n",
      "Epoch: 22: loss: 2.845000555375393\n",
      "Epoch: 23: loss: nan\n",
      "Epoch: 24: loss: nan\n",
      "Epoch: 25: loss: nan\n",
      "Epoch: 26: loss: nan\n",
      "Epoch: 27: loss: nan\n",
      "Epoch: 28: loss: nan\n",
      "Epoch: 29: loss: 3.7574374643934463\n",
      "Epoch: 30: loss: 2.587010907516083\n",
      "Epoch: 31: loss: nan\n",
      "Epoch: 32: loss: nan\n",
      "Epoch: 33: loss: nan\n",
      "Epoch: 34: loss: nan\n",
      "Epoch: 35: loss: 4.738156579464679\n",
      "Epoch: 36: loss: 2.663792408074764\n",
      "Epoch: 37: loss: 2.5409985721218247\n",
      "Epoch: 38: loss: nan\n",
      "Epoch: 39: loss: nan\n",
      "Epoch: 40: loss: nan\n",
      "Epoch: 41: loss: nan\n",
      "Epoch: 42: loss: nan\n",
      "Epoch: 43: loss: 4.713894719963852\n",
      "Epoch: 44: loss: 2.8379071283644492\n",
      "Epoch: 45: loss: 4.420528986306403\n",
      "Epoch: 46: loss: nan\n",
      "Epoch: 47: loss: nan\n",
      "Epoch: 48: loss: nan\n",
      "Epoch: 49: loss: nan\n",
      "Epoch: 50: loss: nan\n",
      "Epoch: 51: loss: 4.012933810782759\n",
      "Epoch: 52: loss: 1.9394981885406146\n",
      "Epoch: 53: loss: nan\n",
      "Epoch: 54: loss: nan\n",
      "Epoch: 55: loss: nan\n",
      "Epoch: 56: loss: nan\n",
      "Epoch: 57: loss: nan\n",
      "Epoch: 58: loss: 4.856551851232213\n",
      "Epoch: 59: loss: 3.569382313096932\n",
      "Epoch: 60: loss: nan\n",
      "Epoch: 61: loss: nan\n",
      "Epoch: 62: loss: nan\n",
      "Epoch: 63: loss: nan\n",
      "Epoch: 64: loss: nan\n",
      "Epoch: 65: loss: nan\n",
      "Epoch: 66: loss: 3.9346332928066348\n",
      "Epoch: 67: loss: 2.1624461232933103\n",
      "Epoch: 68: loss: nan\n",
      "Epoch: 69: loss: nan\n",
      "Epoch: 70: loss: nan\n",
      "Epoch: 71: loss: nan\n",
      "Epoch: 72: loss: nan\n",
      "Epoch: 73: loss: 3.562290383533979\n",
      "Epoch: 74: loss: nan\n",
      "Epoch: 75: loss: nan\n",
      "Epoch: 76: loss: nan\n",
      "Epoch: 77: loss: nan\n",
      "Epoch: 78: loss: 5.167522349849585\n",
      "Epoch: 79: loss: nan\n",
      "Epoch: 80: loss: nan\n",
      "Epoch: 81: loss: nan\n",
      "Epoch: 82: loss: nan\n",
      "Epoch: 83: loss: nan\n",
      "Epoch: 84: loss: 4.728237821493661\n",
      "Epoch: 85: loss: nan\n",
      "Epoch: 86: loss: nan\n",
      "Epoch: 87: loss: nan\n",
      "Epoch: 88: loss: nan\n",
      "Epoch: 89: loss: nan\n",
      "Epoch: 90: loss: 4.369931345289057\n",
      "Epoch: 91: loss: 3.159633485568932\n",
      "Epoch: 92: loss: nan\n",
      "Epoch: 93: loss: nan\n",
      "Epoch: 94: loss: nan\n",
      "Epoch: 95: loss: nan\n",
      "Epoch: 96: loss: nan\n",
      "Epoch: 97: loss: 3.731746850183188\n",
      "Epoch: 98: loss: 3.613308663565202\n",
      "Epoch: 99: loss: nan\n",
      "Epoch: 100: loss: nan\n",
      "Epoch: 101: loss: nan\n",
      "Epoch: 102: loss: nan\n",
      "Epoch: 103: loss: 4.850310332056772\n",
      "Epoch: 104: loss: 3.378922675978158\n",
      "Epoch: 105: loss: nan\n",
      "Epoch: 106: loss: nan\n",
      "Epoch: 107: loss: nan\n",
      "Epoch: 108: loss: nan\n",
      "Epoch: 109: loss: nan\n",
      "Epoch: 110: loss: nan\n",
      "Epoch: 111: loss: 3.2822733896682776\n",
      "Epoch: 112: loss: 3.9387845662040206\n",
      "Epoch: 113: loss: nan\n",
      "Epoch: 114: loss: nan\n",
      "Epoch: 115: loss: nan\n",
      "Epoch: 116: loss: nan\n",
      "Epoch: 117: loss: nan\n",
      "Epoch: 118: loss: 3.8846495687171765\n",
      "Epoch: 119: loss: 1.8148347531889817\n",
      "Epoch: 120: loss: nan\n",
      "Epoch: 121: loss: nan\n",
      "Epoch: 122: loss: nan\n",
      "Epoch: 123: loss: nan\n",
      "Epoch: 124: loss: nan\n",
      "Epoch: 125: loss: 4.547411095040784\n",
      "Epoch: 126: loss: 3.6067081207789053\n",
      "Epoch: 127: loss: nan\n",
      "Epoch: 128: loss: nan\n",
      "Epoch: 129: loss: nan\n",
      "Epoch: 130: loss: nan\n",
      "Epoch: 131: loss: nan\n",
      "Epoch: 132: loss: nan\n",
      "Epoch: 133: loss: 3.3062086354641167\n",
      "Epoch: 134: loss: 3.519456507892107\n",
      "Epoch: 135: loss: nan\n",
      "Epoch: 136: loss: nan\n",
      "Epoch: 137: loss: nan\n",
      "Epoch: 138: loss: nan\n",
      "Epoch: 139: loss: nan\n",
      "Epoch: 140: loss: 4.000043440558596\n",
      "Epoch: 141: loss: 1.8470830268373928\n",
      "Epoch: 142: loss: nan\n",
      "Epoch: 143: loss: nan\n",
      "Epoch: 144: loss: nan\n",
      "Epoch: 145: loss: nan\n",
      "Epoch: 146: loss: nan\n",
      "Epoch: 147: loss: nan\n",
      "Epoch: 148: loss: 3.2540718544051623\n",
      "Epoch: 149: loss: 2.846584992740582\n",
      "Epoch: 150: loss: nan\n",
      "Epoch: 151: loss: nan\n",
      "Epoch: 152: loss: nan\n",
      "Epoch: 153: loss: nan\n",
      "Epoch: 154: loss: nan\n",
      "Epoch: 155: loss: 4.308637023030577\n",
      "Epoch: 156: loss: 2.142661744380029\n",
      "Epoch: 157: loss: nan\n",
      "Epoch: 158: loss: nan\n",
      "Epoch: 159: loss: nan\n",
      "Epoch: 160: loss: nan\n",
      "Epoch: 161: loss: nan\n",
      "Epoch: 162: loss: 4.81531628414092\n",
      "Epoch: 163: loss: 3.212252322793628\n",
      "Epoch: 164: loss: nan\n",
      "Epoch: 165: loss: nan\n",
      "Epoch: 166: loss: nan\n",
      "Epoch: 167: loss: nan\n",
      "Epoch: 168: loss: nan\n",
      "Epoch: 169: loss: nan\n",
      "Epoch: 170: loss: 4.322457891014583\n",
      "Epoch: 171: loss: 2.1533195048095837\n",
      "Epoch: 172: loss: nan\n",
      "Epoch: 173: loss: nan\n",
      "Epoch: 174: loss: nan\n",
      "Epoch: 175: loss: nan\n",
      "Epoch: 176: loss: nan\n",
      "Epoch: 177: loss: nan\n",
      "Epoch: 178: loss: 3.331533620793941\n",
      "Epoch: 179: loss: 3.484037781734176\n",
      "Epoch: 180: loss: nan\n",
      "Epoch: 181: loss: nan\n",
      "Epoch: 182: loss: nan\n",
      "Epoch: 183: loss: nan\n",
      "Epoch: 184: loss: nan\n",
      "Epoch: 185: loss: 4.760296783753197\n",
      "Epoch: 186: loss: 2.5078928462744616\n",
      "Epoch: 187: loss: nan\n",
      "Epoch: 188: loss: nan\n",
      "Epoch: 189: loss: nan\n",
      "Epoch: 190: loss: nan\n",
      "Epoch: 191: loss: nan\n",
      "Epoch: 192: loss: nan\n",
      "Epoch: 193: loss: 3.1483544667239567\n",
      "Epoch: 194: loss: 2.5320015307793304\n",
      "Epoch: 195: loss: nan\n",
      "Epoch: 196: loss: nan\n",
      "Epoch: 197: loss: nan\n",
      "Epoch: 198: loss: nan\n",
      "Epoch: 199: loss: nan\n",
      "Epoch: 200: loss: 4.3487238816497715\n",
      "Epoch: 201: loss: 2.3443424617018422\n",
      "Epoch: 202: loss: nan\n",
      "Epoch: 203: loss: nan\n",
      "Epoch: 204: loss: nan\n",
      "Epoch: 205: loss: nan\n",
      "Epoch: 206: loss: nan\n",
      "Epoch: 207: loss: 3.671925684511292\n",
      "Epoch: 208: loss: nan\n",
      "Epoch: 209: loss: nan\n",
      "Epoch: 210: loss: nan\n",
      "Epoch: 211: loss: nan\n",
      "Epoch: 212: loss: nan\n",
      "Epoch: 213: loss: 4.774984031218916\n",
      "Epoch: 214: loss: 4.7661559696825115\n",
      "Epoch: 215: loss: nan\n",
      "Epoch: 216: loss: nan\n",
      "Epoch: 217: loss: nan\n",
      "Epoch: 218: loss: nan\n",
      "Epoch: 219: loss: nan\n",
      "Epoch: 220: loss: 4.297152154506691\n",
      "Epoch: 221: loss: 2.905467382960154\n",
      "Epoch: 222: loss: nan\n",
      "Epoch: 223: loss: nan\n",
      "Epoch: 224: loss: nan\n",
      "Epoch: 225: loss: nan\n",
      "Epoch: 226: loss: nan\n",
      "Epoch: 227: loss: 3.6131193360654867\n",
      "Epoch: 228: loss: nan\n",
      "Epoch: 229: loss: nan\n",
      "Epoch: 230: loss: nan\n",
      "Epoch: 231: loss: nan\n",
      "Epoch: 232: loss: nan\n",
      "Epoch: 233: loss: 4.653687060137989\n",
      "Epoch: 234: loss: nan\n",
      "Epoch: 235: loss: nan\n",
      "Epoch: 236: loss: nan\n",
      "Epoch: 237: loss: nan\n",
      "Epoch: 238: loss: nan\n",
      "Epoch: 239: loss: nan\n",
      "Epoch: 240: loss: 4.074191315453388\n",
      "Epoch: 241: loss: 2.9979165090634385\n",
      "Epoch: 242: loss: nan\n",
      "Epoch: 243: loss: nan\n",
      "Epoch: 244: loss: nan\n",
      "Epoch: 245: loss: nan\n",
      "Epoch: 246: loss: nan\n",
      "Epoch: 247: loss: 3.168290510410257\n",
      "Epoch: 248: loss: nan\n",
      "Epoch: 249: loss: nan\n",
      "Epoch: 250: loss: nan\n",
      "Epoch: 251: loss: nan\n",
      "Epoch: 252: loss: nan\n",
      "Epoch: 253: loss: nan\n",
      "Epoch: 254: loss: 3.626708480820434\n",
      "Epoch: 255: loss: 3.1067021477871126\n",
      "Epoch: 256: loss: nan\n",
      "Epoch: 257: loss: nan\n",
      "Epoch: 258: loss: nan\n",
      "Epoch: 259: loss: nan\n",
      "Epoch: 260: loss: nan\n",
      "Epoch: 261: loss: 3.870154402113641\n",
      "Epoch: 262: loss: 1.7645518936321098\n",
      "Epoch: 263: loss: nan\n",
      "Epoch: 264: loss: nan\n",
      "Epoch: 265: loss: nan\n",
      "Epoch: 266: loss: nan\n",
      "Epoch: 267: loss: nan\n",
      "Epoch: 268: loss: 5.019919317634891\n",
      "Epoch: 269: loss: 3.1461132116181556\n",
      "Epoch: 270: loss: nan\n",
      "Epoch: 271: loss: nan\n",
      "Epoch: 272: loss: nan\n",
      "Epoch: 273: loss: nan\n",
      "Epoch: 274: loss: nan\n",
      "Epoch: 275: loss: nan\n",
      "Epoch: 276: loss: 4.798828507066801\n",
      "Epoch: 277: loss: 2.539436518348399\n",
      "Epoch: 278: loss: 2.7158823798060823\n",
      "Epoch: 279: loss: nan\n",
      "Epoch: 280: loss: nan\n",
      "Epoch: 281: loss: nan\n",
      "Epoch: 282: loss: nan\n",
      "Epoch: 283: loss: nan\n",
      "Epoch: 284: loss: 4.73186010277937\n",
      "Epoch: 285: loss: 3.0495657711908057\n",
      "Epoch: 286: loss: nan\n",
      "Epoch: 287: loss: nan\n",
      "Epoch: 288: loss: nan\n",
      "Epoch: 289: loss: nan\n",
      "Epoch: 290: loss: nan\n",
      "Epoch: 291: loss: nan\n",
      "Epoch: 292: loss: 3.7426619872548867\n",
      "Epoch: 293: loss: 2.045341650681933\n",
      "Epoch: 294: loss: nan\n",
      "Epoch: 295: loss: nan\n",
      "Epoch: 296: loss: nan\n",
      "Epoch: 297: loss: nan\n",
      "Epoch: 298: loss: 4.815315817902615\n",
      "Epoch: 299: loss: 3.551300073021588\n",
      "Epoch: 300: loss: nan\n",
      "Epoch: 301: loss: nan\n",
      "Epoch: 302: loss: nan\n",
      "Epoch: 303: loss: nan\n",
      "Epoch: 304: loss: 4.710365127801349\n",
      "Epoch: 305: loss: 4.435439563406728\n",
      "Epoch: 306: loss: nan\n",
      "Epoch: 307: loss: nan\n",
      "Epoch: 308: loss: nan\n",
      "Epoch: 309: loss: nan\n",
      "Epoch: 310: loss: 4.52950842380246\n",
      "Epoch: 311: loss: 3.3950936545201915\n",
      "Epoch: 312: loss: nan\n",
      "Epoch: 313: loss: nan\n",
      "Epoch: 314: loss: nan\n",
      "Epoch: 315: loss: nan\n",
      "Epoch: 316: loss: 4.8730966214933575\n",
      "Epoch: 317: loss: 2.897002940505818\n",
      "Epoch: 318: loss: nan\n",
      "Epoch: 319: loss: nan\n",
      "Epoch: 320: loss: nan\n",
      "Epoch: 321: loss: nan\n",
      "Epoch: 322: loss: nan\n",
      "Epoch: 323: loss: 4.654043778401267\n",
      "Epoch: 324: loss: 4.303785367279772\n",
      "Epoch: 325: loss: nan\n",
      "Epoch: 326: loss: nan\n",
      "Epoch: 327: loss: nan\n",
      "Epoch: 328: loss: nan\n",
      "Epoch: 329: loss: nan\n",
      "Epoch: 330: loss: 4.274557830334649\n",
      "Epoch: 331: loss: 2.49516770027262\n",
      "Epoch: 332: loss: nan\n",
      "Epoch: 333: loss: nan\n",
      "Epoch: 334: loss: nan\n",
      "Epoch: 335: loss: nan\n",
      "Epoch: 336: loss: nan\n",
      "Epoch: 337: loss: 4.9365620118003735\n",
      "Epoch: 338: loss: 2.8640526743358543\n",
      "Epoch: 339: loss: 2.3878679877822906\n",
      "Epoch: 340: loss: nan\n",
      "Epoch: 341: loss: nan\n",
      "Epoch: 342: loss: nan\n",
      "Epoch: 343: loss: nan\n",
      "Epoch: 344: loss: nan\n",
      "Epoch: 345: loss: 4.131224065279935\n",
      "Epoch: 346: loss: 2.1468765111250594\n",
      "Epoch: 347: loss: nan\n",
      "Epoch: 348: loss: nan\n",
      "Epoch: 349: loss: nan\n",
      "Epoch: 350: loss: nan\n",
      "Epoch: 351: loss: nan\n",
      "Epoch: 352: loss: nan\n",
      "Epoch: 353: loss: 3.5520427821425495\n",
      "Epoch: 354: loss: nan\n",
      "Epoch: 355: loss: nan\n",
      "Epoch: 356: loss: nan\n",
      "Epoch: 357: loss: nan\n",
      "Epoch: 358: loss: nan\n",
      "Epoch: 359: loss: nan\n",
      "Epoch: 360: loss: 4.4748075278044706\n",
      "Epoch: 361: loss: 2.351091295776218\n",
      "Epoch: 362: loss: nan\n",
      "Epoch: 363: loss: nan\n",
      "Epoch: 364: loss: nan\n",
      "Epoch: 365: loss: nan\n",
      "Epoch: 366: loss: nan\n",
      "Epoch: 367: loss: 4.2182136364249905\n",
      "Epoch: 368: loss: 4.227666802966912\n",
      "Epoch: 369: loss: nan\n",
      "Epoch: 370: loss: nan\n",
      "Epoch: 371: loss: nan\n",
      "Epoch: 372: loss: nan\n",
      "Epoch: 373: loss: nan\n",
      "Epoch: 374: loss: 4.303995006637416\n",
      "Epoch: 375: loss: 2.7237138440920328\n",
      "Epoch: 376: loss: nan\n",
      "Epoch: 377: loss: nan\n",
      "Epoch: 378: loss: nan\n",
      "Epoch: 379: loss: nan\n",
      "Epoch: 380: loss: nan\n",
      "Epoch: 381: loss: 4.016962596685727\n",
      "Epoch: 382: loss: nan\n",
      "Epoch: 383: loss: nan\n",
      "Epoch: 384: loss: nan\n",
      "Epoch: 385: loss: nan\n",
      "Epoch: 386: loss: nan\n",
      "Epoch: 387: loss: nan\n",
      "Epoch: 388: loss: 3.9255260822586115\n",
      "Epoch: 389: loss: nan\n",
      "Epoch: 390: loss: nan\n",
      "Epoch: 391: loss: nan\n",
      "Epoch: 392: loss: nan\n",
      "Epoch: 393: loss: nan\n",
      "Epoch: 394: loss: nan\n",
      "Epoch: 395: loss: 3.9257235924507716\n",
      "Epoch: 396: loss: 2.259216704504518\n",
      "Epoch: 397: loss: nan\n",
      "Epoch: 398: loss: nan\n",
      "Epoch: 399: loss: nan\n",
      "Epoch: 400: loss: nan\n",
      "Epoch: 401: loss: 4.836426494008917\n",
      "Epoch: 402: loss: 3.4866067256034508\n",
      "Epoch: 403: loss: nan\n",
      "Epoch: 404: loss: nan\n",
      "Epoch: 405: loss: nan\n",
      "Epoch: 406: loss: nan\n",
      "Epoch: 407: loss: 4.753733215880208\n",
      "Epoch: 408: loss: 4.428804313769459\n",
      "Epoch: 409: loss: nan\n",
      "Epoch: 410: loss: nan\n",
      "Epoch: 411: loss: nan\n",
      "Epoch: 412: loss: nan\n",
      "Epoch: 413: loss: 4.534528039703908\n",
      "Epoch: 414: loss: 3.507345602394895\n",
      "Epoch: 415: loss: nan\n",
      "Epoch: 416: loss: nan\n",
      "Epoch: 417: loss: nan\n",
      "Epoch: 418: loss: nan\n",
      "Epoch: 419: loss: 4.773602935145577\n",
      "Epoch: 420: loss: 2.7934556461884172\n",
      "Epoch: 421: loss: nan\n",
      "Epoch: 422: loss: nan\n",
      "Epoch: 423: loss: nan\n",
      "Epoch: 424: loss: nan\n",
      "Epoch: 425: loss: nan\n",
      "Epoch: 426: loss: 4.266107227311852\n",
      "Epoch: 427: loss: nan\n",
      "Epoch: 428: loss: nan\n",
      "Epoch: 429: loss: nan\n",
      "Epoch: 430: loss: nan\n",
      "Epoch: 431: loss: nan\n",
      "Epoch: 432: loss: nan\n",
      "Epoch: 433: loss: 3.868307681982676\n",
      "Epoch: 434: loss: nan\n",
      "Epoch: 435: loss: nan\n",
      "Epoch: 436: loss: nan\n",
      "Epoch: 437: loss: nan\n",
      "Epoch: 438: loss: nan\n",
      "Epoch: 439: loss: nan\n",
      "Epoch: 440: loss: 4.180803614147258\n",
      "Epoch: 441: loss: 2.2842636427739107\n",
      "Epoch: 442: loss: nan\n",
      "Epoch: 443: loss: nan\n",
      "Epoch: 444: loss: nan\n",
      "Epoch: 445: loss: nan\n",
      "Epoch: 446: loss: nan\n",
      "Epoch: 447: loss: 3.559810965070719\n",
      "Epoch: 448: loss: nan\n",
      "Epoch: 449: loss: nan\n",
      "Epoch: 450: loss: nan\n",
      "Epoch: 451: loss: nan\n",
      "Epoch: 452: loss: nan\n",
      "Epoch: 453: loss: 4.277466240743637\n",
      "Epoch: 454: loss: nan\n",
      "Epoch: 455: loss: nan\n",
      "Epoch: 456: loss: nan\n",
      "Epoch: 457: loss: nan\n",
      "Epoch: 458: loss: nan\n",
      "Epoch: 459: loss: nan\n",
      "Epoch: 460: loss: nan\n",
      "Epoch: 461: loss: nan\n",
      "Epoch: 462: loss: nan\n",
      "Epoch: 463: loss: nan\n",
      "Epoch: 464: loss: nan\n",
      "Epoch: 465: loss: nan\n",
      "Epoch: 466: loss: 4.768115938700974\n",
      "Epoch: 467: loss: nan\n",
      "Epoch: 468: loss: nan\n",
      "Epoch: 469: loss: nan\n",
      "Epoch: 470: loss: nan\n",
      "Epoch: 471: loss: nan\n",
      "Epoch: 472: loss: 5.035102898373632\n",
      "Epoch: 473: loss: 2.9101922718033677\n",
      "Epoch: 474: loss: nan\n",
      "Epoch: 475: loss: nan\n",
      "Epoch: 476: loss: nan\n",
      "Epoch: 477: loss: nan\n",
      "Epoch: 478: loss: nan\n",
      "Epoch: 479: loss: nan\n",
      "Epoch: 480: loss: 3.6516278340951462\n",
      "Epoch: 481: loss: nan\n",
      "Epoch: 482: loss: nan\n",
      "Epoch: 483: loss: nan\n",
      "Epoch: 484: loss: nan\n",
      "Epoch: 485: loss: nan\n",
      "Epoch: 486: loss: nan\n",
      "Epoch: 487: loss: 4.256496988455273\n",
      "Epoch: 488: loss: 2.2958253917740614\n",
      "Epoch: 489: loss: nan\n",
      "Epoch: 490: loss: nan\n",
      "Epoch: 491: loss: nan\n",
      "Epoch: 492: loss: nan\n",
      "Epoch: 493: loss: nan\n",
      "Epoch: 494: loss: 3.5948967843571147\n",
      "Epoch: 495: loss: nan\n",
      "Epoch: 496: loss: nan\n",
      "Epoch: 497: loss: nan\n",
      "Epoch: 498: loss: nan\n",
      "Epoch: 499: loss: nan\n",
      "Epoch: 500: loss: 4.29582505043222\n",
      "Epoch: 501: loss: nan\n",
      "Epoch: 502: loss: nan\n",
      "Epoch: 503: loss: nan\n",
      "Epoch: 504: loss: nan\n",
      "Epoch: 505: loss: nan\n",
      "Epoch: 506: loss: nan\n",
      "Epoch: 507: loss: 4.315544384010384\n",
      "Epoch: 508: loss: nan\n",
      "Epoch: 509: loss: nan\n",
      "Epoch: 510: loss: nan\n",
      "Epoch: 511: loss: nan\n",
      "Epoch: 512: loss: nan\n",
      "Epoch: 513: loss: nan\n",
      "Epoch: 514: loss: 3.2159922572579167\n",
      "Epoch: 515: loss: 2.4191531864788587\n",
      "Epoch: 516: loss: nan\n",
      "Epoch: 517: loss: nan\n",
      "Epoch: 518: loss: nan\n",
      "Epoch: 519: loss: nan\n",
      "Epoch: 520: loss: nan\n",
      "Epoch: 521: loss: 4.593457380996524\n",
      "Epoch: 522: loss: 3.027004904776053\n",
      "Epoch: 523: loss: nan\n",
      "Epoch: 524: loss: nan\n",
      "Epoch: 525: loss: nan\n",
      "Epoch: 526: loss: nan\n",
      "Epoch: 527: loss: nan\n",
      "Epoch: 528: loss: nan\n",
      "Epoch: 529: loss: 3.633531660054965\n",
      "Epoch: 530: loss: 2.861253497350506\n",
      "Epoch: 531: loss: nan\n",
      "Epoch: 532: loss: nan\n",
      "Epoch: 533: loss: nan\n",
      "Epoch: 534: loss: nan\n",
      "Epoch: 535: loss: nan\n",
      "Epoch: 536: loss: 3.5631498978396765\n",
      "Epoch: 537: loss: 3.6313314689021565\n",
      "Epoch: 538: loss: nan\n",
      "Epoch: 539: loss: nan\n",
      "Epoch: 540: loss: nan\n",
      "Epoch: 541: loss: nan\n",
      "Epoch: 542: loss: nan\n",
      "Epoch: 543: loss: 3.7131044782037144\n",
      "Epoch: 544: loss: 2.5010725614833467\n",
      "Epoch: 545: loss: nan\n",
      "Epoch: 546: loss: nan\n",
      "Epoch: 547: loss: nan\n",
      "Epoch: 548: loss: nan\n",
      "Epoch: 549: loss: 4.706198504458395\n",
      "Epoch: 550: loss: 2.608394763106774\n",
      "Epoch: 551: loss: 2.9202651982415073\n",
      "Epoch: 552: loss: nan\n",
      "Epoch: 553: loss: nan\n",
      "Epoch: 554: loss: nan\n",
      "Epoch: 555: loss: nan\n",
      "Epoch: 556: loss: nan\n",
      "Epoch: 557: loss: 4.5188384982584235\n",
      "Epoch: 558: loss: 2.362536874384599\n",
      "Epoch: 559: loss: nan\n",
      "Epoch: 560: loss: nan\n",
      "Epoch: 561: loss: nan\n",
      "Epoch: 562: loss: nan\n",
      "Epoch: 563: loss: nan\n",
      "Epoch: 564: loss: nan\n",
      "Epoch: 565: loss: 3.687834201112147\n",
      "Epoch: 566: loss: 2.566477752317401\n",
      "Epoch: 567: loss: nan\n",
      "Epoch: 568: loss: nan\n",
      "Epoch: 569: loss: nan\n",
      "Epoch: 570: loss: nan\n",
      "Epoch: 571: loss: nan\n",
      "Epoch: 572: loss: 3.3857495321129703\n",
      "Epoch: 573: loss: 2.1039169125971178\n",
      "Epoch: 574: loss: nan\n",
      "Epoch: 575: loss: nan\n",
      "Epoch: 576: loss: nan\n",
      "Epoch: 577: loss: nan\n",
      "Epoch: 578: loss: 4.590381522272043\n",
      "Epoch: 579: loss: 2.8718278068749887\n",
      "Epoch: 580: loss: nan\n",
      "Epoch: 581: loss: nan\n",
      "Epoch: 582: loss: nan\n",
      "Epoch: 583: loss: nan\n",
      "Epoch: 584: loss: nan\n",
      "Epoch: 585: loss: nan\n",
      "Epoch: 586: loss: nan\n",
      "Epoch: 587: loss: nan\n",
      "Epoch: 588: loss: nan\n",
      "Epoch: 589: loss: nan\n",
      "Epoch: 590: loss: nan\n",
      "Epoch: 591: loss: nan\n",
      "Epoch: 592: loss: nan\n",
      "Epoch: 593: loss: nan\n",
      "Epoch: 594: loss: nan\n",
      "Epoch: 595: loss: nan\n",
      "Epoch: 596: loss: nan\n",
      "Epoch: 597: loss: 4.54345671533312\n",
      "Epoch: 598: loss: nan\n",
      "Epoch: 599: loss: nan\n",
      "Epoch: 600: loss: nan\n",
      "Epoch: 601: loss: nan\n",
      "Epoch: 602: loss: nan\n",
      "Epoch: 603: loss: nan\n",
      "Epoch: 604: loss: 4.239255940242219\n",
      "Epoch: 605: loss: nan\n",
      "Epoch: 606: loss: nan\n",
      "Epoch: 607: loss: nan\n",
      "Epoch: 608: loss: nan\n",
      "Epoch: 609: loss: nan\n",
      "Epoch: 610: loss: nan\n",
      "Epoch: 611: loss: 3.134754067599732\n",
      "Epoch: 612: loss: 3.2271956442513843\n",
      "Epoch: 613: loss: nan\n",
      "Epoch: 614: loss: nan\n",
      "Epoch: 615: loss: nan\n",
      "Epoch: 616: loss: nan\n",
      "Epoch: 617: loss: nan\n",
      "Epoch: 618: loss: 4.473671028747354\n",
      "Epoch: 619: loss: 2.8969624371663123\n",
      "Epoch: 620: loss: nan\n",
      "Epoch: 621: loss: nan\n",
      "Epoch: 622: loss: nan\n",
      "Epoch: 623: loss: nan\n",
      "Epoch: 624: loss: nan\n",
      "Epoch: 625: loss: nan\n",
      "Epoch: 626: loss: 3.6257459000009553\n",
      "Epoch: 627: loss: 3.286293285285491\n",
      "Epoch: 628: loss: nan\n",
      "Epoch: 629: loss: nan\n",
      "Epoch: 630: loss: nan\n",
      "Epoch: 631: loss: nan\n",
      "Epoch: 632: loss: nan\n",
      "Epoch: 633: loss: 3.641950415084872\n",
      "Epoch: 634: loss: 3.0176169012025404\n",
      "Epoch: 635: loss: nan\n",
      "Epoch: 636: loss: nan\n",
      "Epoch: 637: loss: nan\n",
      "Epoch: 638: loss: nan\n",
      "Epoch: 639: loss: nan\n",
      "Epoch: 640: loss: 3.6113807584139908\n",
      "Epoch: 641: loss: 3.2077293446257538\n",
      "Epoch: 642: loss: nan\n",
      "Epoch: 643: loss: nan\n",
      "Epoch: 644: loss: nan\n",
      "Epoch: 645: loss: nan\n",
      "Epoch: 646: loss: nan\n",
      "Epoch: 647: loss: 3.6405348054757516\n",
      "Epoch: 648: loss: 2.9589745987617744\n",
      "Epoch: 649: loss: nan\n",
      "Epoch: 650: loss: nan\n",
      "Epoch: 651: loss: nan\n",
      "Epoch: 652: loss: nan\n",
      "Epoch: 653: loss: nan\n",
      "Epoch: 654: loss: 3.5980645642577693\n",
      "Epoch: 655: loss: 3.359164780532492\n",
      "Epoch: 656: loss: nan\n",
      "Epoch: 657: loss: nan\n",
      "Epoch: 658: loss: nan\n",
      "Epoch: 659: loss: nan\n",
      "Epoch: 660: loss: nan\n",
      "Epoch: 661: loss: 3.6632308115102914\n",
      "Epoch: 662: loss: 2.745961824006926\n",
      "Epoch: 663: loss: nan\n",
      "Epoch: 664: loss: nan\n",
      "Epoch: 665: loss: nan\n",
      "Epoch: 666: loss: nan\n",
      "Epoch: 667: loss: nan\n",
      "Epoch: 668: loss: 3.4670422646266825\n",
      "Epoch: 669: loss: 4.27041841771767\n",
      "Epoch: 670: loss: nan\n",
      "Epoch: 671: loss: nan\n",
      "Epoch: 672: loss: nan\n",
      "Epoch: 673: loss: nan\n",
      "Epoch: 674: loss: nan\n",
      "Epoch: 675: loss: 3.780016929126936\n",
      "Epoch: 676: loss: 2.333828751204162\n",
      "Epoch: 677: loss: nan\n",
      "Epoch: 678: loss: nan\n",
      "Epoch: 679: loss: nan\n",
      "Epoch: 680: loss: nan\n",
      "Epoch: 681: loss: 4.574441790273346\n",
      "Epoch: 682: loss: 2.9541543755855866\n",
      "Epoch: 683: loss: nan\n",
      "Epoch: 684: loss: nan\n",
      "Epoch: 685: loss: nan\n",
      "Epoch: 686: loss: nan\n",
      "Epoch: 687: loss: 4.934061315736563\n",
      "Epoch: 688: loss: 3.9791773371847987\n",
      "Epoch: 689: loss: nan\n",
      "Epoch: 690: loss: nan\n",
      "Epoch: 691: loss: nan\n",
      "Epoch: 692: loss: nan\n",
      "Epoch: 693: loss: 4.649255970416543\n",
      "Epoch: 694: loss: 4.220879148507725\n",
      "Epoch: 695: loss: nan\n",
      "Epoch: 696: loss: nan\n",
      "Epoch: 697: loss: nan\n",
      "Epoch: 698: loss: nan\n",
      "Epoch: 699: loss: 4.503393305210324\n",
      "Epoch: 700: loss: 3.20435690951767\n",
      "Epoch: 701: loss: nan\n",
      "Epoch: 702: loss: nan\n",
      "Epoch: 703: loss: nan\n",
      "Epoch: 704: loss: nan\n",
      "Epoch: 705: loss: 4.9398646611864905\n",
      "Epoch: 706: loss: 3.079142460141064\n",
      "Epoch: 707: loss: nan\n",
      "Epoch: 708: loss: nan\n",
      "Epoch: 709: loss: nan\n",
      "Epoch: 710: loss: nan\n",
      "Epoch: 711: loss: nan\n",
      "Epoch: 712: loss: 3.910803134534561\n",
      "Epoch: 713: loss: nan\n",
      "Epoch: 714: loss: nan\n",
      "Epoch: 715: loss: nan\n",
      "Epoch: 716: loss: nan\n",
      "Epoch: 717: loss: nan\n",
      "Epoch: 718: loss: 4.543488978274091\n",
      "Epoch: 719: loss: nan\n",
      "Epoch: 720: loss: nan\n",
      "Epoch: 721: loss: nan\n",
      "Epoch: 722: loss: nan\n",
      "Epoch: 723: loss: nan\n",
      "Epoch: 724: loss: nan\n",
      "Epoch: 725: loss: 4.572430440255057\n",
      "Epoch: 726: loss: nan\n",
      "Epoch: 727: loss: nan\n",
      "Epoch: 728: loss: nan\n",
      "Epoch: 729: loss: nan\n",
      "Epoch: 730: loss: nan\n",
      "Epoch: 731: loss: 4.749705125446811\n",
      "Epoch: 732: loss: 2.7580664788202482\n",
      "Epoch: 733: loss: nan\n",
      "Epoch: 734: loss: nan\n",
      "Epoch: 735: loss: nan\n",
      "Epoch: 736: loss: nan\n",
      "Epoch: 737: loss: nan\n",
      "Epoch: 738: loss: 4.560819897390846\n",
      "Epoch: 739: loss: 4.613231564402865\n",
      "Epoch: 740: loss: nan\n",
      "Epoch: 741: loss: nan\n",
      "Epoch: 742: loss: nan\n",
      "Epoch: 743: loss: nan\n",
      "Epoch: 744: loss: nan\n",
      "Epoch: 745: loss: 4.138223802471408\n",
      "Epoch: 746: loss: 2.469382547132498\n",
      "Epoch: 747: loss: nan\n",
      "Epoch: 748: loss: nan\n",
      "Epoch: 749: loss: nan\n",
      "Epoch: 750: loss: nan\n",
      "Epoch: 751: loss: nan\n",
      "Epoch: 752: loss: 4.16192749475433\n",
      "Epoch: 753: loss: 3.136439285984564\n",
      "Epoch: 754: loss: nan\n",
      "Epoch: 755: loss: nan\n",
      "Epoch: 756: loss: nan\n",
      "Epoch: 757: loss: nan\n",
      "Epoch: 758: loss: nan\n",
      "Epoch: 759: loss: nan\n",
      "Epoch: 760: loss: 3.31991250103309\n",
      "Epoch: 761: loss: 4.190148057912407\n",
      "Epoch: 762: loss: nan\n",
      "Epoch: 763: loss: nan\n",
      "Epoch: 764: loss: nan\n",
      "Epoch: 765: loss: nan\n",
      "Epoch: 766: loss: nan\n",
      "Epoch: 767: loss: 3.8743744319166398\n",
      "Epoch: 768: loss: 1.95467468352813\n",
      "Epoch: 769: loss: nan\n",
      "Epoch: 770: loss: nan\n",
      "Epoch: 771: loss: nan\n",
      "Epoch: 772: loss: nan\n",
      "Epoch: 773: loss: nan\n",
      "Epoch: 774: loss: 3.6152015574320817\n",
      "Epoch: 775: loss: nan\n",
      "Epoch: 776: loss: nan\n",
      "Epoch: 777: loss: nan\n",
      "Epoch: 778: loss: nan\n",
      "Epoch: 779: loss: nan\n",
      "Epoch: 780: loss: 4.193689659615279\n",
      "Epoch: 781: loss: nan\n",
      "Epoch: 782: loss: nan\n",
      "Epoch: 783: loss: nan\n",
      "Epoch: 784: loss: nan\n",
      "Epoch: 785: loss: nan\n",
      "Epoch: 786: loss: nan\n",
      "Epoch: 787: loss: 5.321822353565164\n",
      "Epoch: 788: loss: nan\n",
      "Epoch: 789: loss: nan\n",
      "Epoch: 790: loss: nan\n",
      "Epoch: 791: loss: nan\n",
      "Epoch: 792: loss: nan\n",
      "Epoch: 793: loss: 4.2143198734369856\n",
      "Epoch: 794: loss: 3.424359407891308\n",
      "Epoch: 795: loss: nan\n",
      "Epoch: 796: loss: nan\n",
      "Epoch: 797: loss: nan\n",
      "Epoch: 798: loss: nan\n",
      "Epoch: 799: loss: nan\n",
      "Epoch: 800: loss: 3.103624581431159\n",
      "Epoch: 801: loss: 2.495569635278371\n",
      "Epoch: 802: loss: nan\n",
      "Epoch: 803: loss: nan\n",
      "Epoch: 804: loss: nan\n",
      "Epoch: 805: loss: nan\n",
      "Epoch: 806: loss: nan\n",
      "Epoch: 807: loss: 4.592451639004899\n",
      "Epoch: 808: loss: 2.8839532708255278\n",
      "Epoch: 809: loss: nan\n",
      "Epoch: 810: loss: nan\n",
      "Epoch: 811: loss: nan\n",
      "Epoch: 812: loss: nan\n",
      "Epoch: 813: loss: nan\n",
      "Epoch: 814: loss: nan\n",
      "Epoch: 815: loss: 3.7299983951441096\n",
      "Epoch: 816: loss: 2.450241917121361\n",
      "Epoch: 817: loss: nan\n",
      "Epoch: 818: loss: nan\n",
      "Epoch: 819: loss: nan\n",
      "Epoch: 820: loss: nan\n",
      "Epoch: 821: loss: 4.61024070157011\n",
      "Epoch: 822: loss: 2.358986752477841\n",
      "Epoch: 823: loss: 3.8533011801572186\n",
      "Epoch: 824: loss: nan\n",
      "Epoch: 825: loss: nan\n",
      "Epoch: 826: loss: nan\n",
      "Epoch: 827: loss: nan\n",
      "Epoch: 828: loss: nan\n",
      "Epoch: 829: loss: 3.7908302464526322\n",
      "Epoch: 830: loss: 2.2816710147967987\n",
      "Epoch: 831: loss: nan\n",
      "Epoch: 832: loss: nan\n",
      "Epoch: 833: loss: nan\n",
      "Epoch: 834: loss: nan\n",
      "Epoch: 835: loss: nan\n",
      "Epoch: 836: loss: 4.3197053788304025\n",
      "Epoch: 837: loss: 2.361016378301258\n",
      "Epoch: 838: loss: 3.49996606297496\n",
      "Epoch: 839: loss: nan\n",
      "Epoch: 840: loss: nan\n",
      "Epoch: 841: loss: nan\n",
      "Epoch: 842: loss: nan\n",
      "Epoch: 843: loss: nan\n",
      "Epoch: 844: loss: 4.528956532009382\n",
      "Epoch: 845: loss: 2.6974837111378758\n",
      "Epoch: 846: loss: nan\n",
      "Epoch: 847: loss: nan\n",
      "Epoch: 848: loss: nan\n",
      "Epoch: 849: loss: nan\n",
      "Epoch: 850: loss: nan\n",
      "Epoch: 851: loss: nan\n",
      "Epoch: 852: loss: 3.9076965074882963\n",
      "Epoch: 853: loss: 2.4648587766432657\n",
      "Epoch: 854: loss: nan\n",
      "Epoch: 855: loss: nan\n",
      "Epoch: 856: loss: nan\n",
      "Epoch: 857: loss: nan\n",
      "Epoch: 858: loss: 4.5810292663304075\n",
      "Epoch: 859: loss: 3.0964097156272783\n",
      "Epoch: 860: loss: nan\n",
      "Epoch: 861: loss: nan\n",
      "Epoch: 862: loss: nan\n",
      "Epoch: 863: loss: nan\n",
      "Epoch: 864: loss: 4.717893839029977\n",
      "Epoch: 865: loss: 3.9284836133358567\n",
      "Epoch: 866: loss: nan\n",
      "Epoch: 867: loss: nan\n",
      "Epoch: 868: loss: nan\n",
      "Epoch: 869: loss: nan\n",
      "Epoch: 870: loss: 4.6018605830100725\n",
      "Epoch: 871: loss: 3.31660542710016\n",
      "Epoch: 872: loss: nan\n",
      "Epoch: 873: loss: nan\n",
      "Epoch: 874: loss: nan\n",
      "Epoch: 875: loss: nan\n",
      "Epoch: 876: loss: 4.6267827858734645\n",
      "Epoch: 877: loss: 3.713561878588528\n",
      "Epoch: 878: loss: nan\n",
      "Epoch: 879: loss: nan\n",
      "Epoch: 880: loss: nan\n",
      "Epoch: 881: loss: nan\n",
      "Epoch: 882: loss: 4.525802699950766\n",
      "Epoch: 883: loss: 3.3529766311860345\n",
      "Epoch: 884: loss: nan\n",
      "Epoch: 885: loss: nan\n",
      "Epoch: 886: loss: nan\n",
      "Epoch: 887: loss: nan\n",
      "Epoch: 888: loss: 4.500987801198191\n",
      "Epoch: 889: loss: 3.572069252193883\n",
      "Epoch: 890: loss: nan\n",
      "Epoch: 891: loss: nan\n",
      "Epoch: 892: loss: nan\n",
      "Epoch: 893: loss: nan\n",
      "Epoch: 894: loss: 4.532711181045557\n",
      "Epoch: 895: loss: 3.2463401647106616\n",
      "Epoch: 896: loss: nan\n",
      "Epoch: 897: loss: nan\n",
      "Epoch: 898: loss: nan\n",
      "Epoch: 899: loss: nan\n",
      "Epoch: 900: loss: 4.920214107729559\n",
      "Epoch: 901: loss: 3.1018597712561333\n",
      "Epoch: 902: loss: nan\n",
      "Epoch: 903: loss: nan\n",
      "Epoch: 904: loss: nan\n",
      "Epoch: 905: loss: nan\n",
      "Epoch: 906: loss: nan\n",
      "Epoch: 907: loss: 3.8546351104137258\n",
      "Epoch: 908: loss: nan\n",
      "Epoch: 909: loss: nan\n",
      "Epoch: 910: loss: nan\n",
      "Epoch: 911: loss: nan\n",
      "Epoch: 912: loss: nan\n",
      "Epoch: 913: loss: nan\n",
      "Epoch: 914: loss: nan\n",
      "Epoch: 915: loss: nan\n",
      "Epoch: 916: loss: nan\n",
      "Epoch: 917: loss: nan\n",
      "Epoch: 918: loss: nan\n",
      "Epoch: 919: loss: 4.728267071973821\n",
      "Epoch: 920: loss: nan\n",
      "Epoch: 921: loss: nan\n",
      "Epoch: 922: loss: nan\n",
      "Epoch: 923: loss: nan\n",
      "Epoch: 924: loss: nan\n",
      "Epoch: 925: loss: nan\n",
      "Epoch: 926: loss: 3.950672497492124\n",
      "Epoch: 927: loss: nan\n",
      "Epoch: 928: loss: nan\n",
      "Epoch: 929: loss: nan\n",
      "Epoch: 930: loss: nan\n",
      "Epoch: 931: loss: nan\n",
      "Epoch: 932: loss: nan\n",
      "Epoch: 933: loss: 3.8759991209229385\n",
      "Epoch: 934: loss: 2.255315920808691\n",
      "Epoch: 935: loss: nan\n",
      "Epoch: 936: loss: nan\n",
      "Epoch: 937: loss: nan\n",
      "Epoch: 938: loss: nan\n",
      "Epoch: 939: loss: 4.762230942808988\n",
      "Epoch: 940: loss: 3.409853484205083\n",
      "Epoch: 941: loss: nan\n",
      "Epoch: 942: loss: nan\n",
      "Epoch: 943: loss: nan\n",
      "Epoch: 944: loss: nan\n",
      "Epoch: 945: loss: 4.71660477887943\n",
      "Epoch: 946: loss: 4.178859801733848\n",
      "Epoch: 947: loss: nan\n",
      "Epoch: 948: loss: nan\n",
      "Epoch: 949: loss: nan\n",
      "Epoch: 950: loss: nan\n",
      "Epoch: 951: loss: 4.5421118784615935\n",
      "Epoch: 952: loss: 3.4061410265216097\n",
      "Epoch: 953: loss: nan\n",
      "Epoch: 954: loss: nan\n",
      "Epoch: 955: loss: nan\n",
      "Epoch: 956: loss: nan\n",
      "Epoch: 957: loss: 4.619513122959775\n",
      "Epoch: 958: loss: 3.5527313984884175\n",
      "Epoch: 959: loss: nan\n",
      "Epoch: 960: loss: nan\n",
      "Epoch: 961: loss: nan\n",
      "Epoch: 962: loss: nan\n",
      "Epoch: 963: loss: 4.8070172030305995\n",
      "Epoch: 964: loss: 2.9139288255004696\n",
      "Epoch: 965: loss: nan\n",
      "Epoch: 966: loss: nan\n",
      "Epoch: 967: loss: nan\n",
      "Epoch: 968: loss: nan\n",
      "Epoch: 969: loss: nan\n",
      "Epoch: 970: loss: 4.342531877248588\n",
      "Epoch: 971: loss: nan\n",
      "Epoch: 972: loss: nan\n",
      "Epoch: 973: loss: nan\n",
      "Epoch: 974: loss: nan\n",
      "Epoch: 975: loss: nan\n",
      "Epoch: 976: loss: nan\n",
      "Epoch: 977: loss: 3.8956640465770587\n",
      "Epoch: 978: loss: 3.577941815878223\n",
      "Epoch: 979: loss: nan\n",
      "Epoch: 980: loss: nan\n",
      "Epoch: 981: loss: nan\n",
      "Epoch: 982: loss: nan\n",
      "Epoch: 983: loss: nan\n",
      "Epoch: 984: loss: 3.881414162725605\n",
      "Epoch: 985: loss: 2.0917025123889665\n",
      "Epoch: 986: loss: nan\n",
      "Epoch: 987: loss: nan\n",
      "Epoch: 988: loss: nan\n",
      "Epoch: 989: loss: nan\n",
      "Epoch: 990: loss: nan\n",
      "Epoch: 991: loss: 3.4825483521742897\n",
      "Epoch: 992: loss: nan\n",
      "Epoch: 993: loss: nan\n",
      "Epoch: 994: loss: nan\n",
      "Epoch: 995: loss: nan\n",
      "Epoch: 996: loss: nan\n",
      "Epoch: 997: loss: 3.670381246469166\n",
      "Epoch: 998: loss: nan\n",
      "Epoch: 999: loss: nan\n"
     ]
    },
    {
     "name": "stderr",
     "output_type": "stream",
     "text": [
      "\n"
     ]
    }
   ],
   "source": [
    "num_epochs = 1000\n",
    "lr = 0.1\n",
    "num_samples, p = X.shape   # (1000, 4)\n",
    "w = np.zeros(p) # (4,)\n",
    "for epoch in tqdm(range(num_epochs), desc='training'):\n",
    "    \n",
    "    # print(p)\n",
    "    \n",
    "    logits = X @ w # (1000,)\n",
    "    pred = sigmoid(logits) # (1000,)\n",
    "\n",
    "    loss = (-1/num_samples) * (1*np.log(pred) + (1-1) * np.log(1-pred))\n",
    "    print(f\"Epoch: {epoch}: loss: {loss.sum()}\")\n",
    "    grad = (X.T@(pred-y)) # (1/num_samples)* \n",
    "\n",
    "    w -= lr*grad\n",
    "\n",
    "\n"
   ]
  },
  {
   "cell_type": "code",
   "execution_count": 77,
   "id": "6108eff6",
   "metadata": {},
   "outputs": [
    {
     "data": {
      "text/plain": [
       "array([ 1.98933722, -1.44698067,  0.58637326,  1.09151389])"
      ]
     },
     "execution_count": 77,
     "metadata": {},
     "output_type": "execute_result"
    }
   ],
   "source": [
    "w"
   ]
  },
  {
   "cell_type": "code",
   "execution_count": 81,
   "id": "9a3c5fd9",
   "metadata": {},
   "outputs": [],
   "source": [
    "X = np.array(\n",
    "    [[0,0],\n",
    "     [0,1],\n",
    "     [1,0],\n",
    "     [1,1]], dtype=float)\n",
    "y = np.array([0, 1, 1, 1], dtype=float)\n",
    "\n",
    "X_bias = np.hstack([np.ones((X.shape[0], 1)), X])\n",
    "\n",
    "w = np.zeros(X_bias.shape[1])"
   ]
  },
  {
   "cell_type": "code",
   "execution_count": null,
   "id": "c7e0b97b",
   "metadata": {},
   "outputs": [
    {
     "data": {
      "text/plain": [
       "(4, 2)"
      ]
     },
     "execution_count": 83,
     "metadata": {},
     "output_type": "execute_result"
    }
   ],
   "source": [
    "X.shape"
   ]
  },
  {
   "cell_type": "code",
   "execution_count": 86,
   "id": "70ea220e",
   "metadata": {},
   "outputs": [
    {
     "data": {
      "text/plain": [
       "(4, 1)"
      ]
     },
     "execution_count": 86,
     "metadata": {},
     "output_type": "execute_result"
    }
   ],
   "source": [
    "np.ones((X.shape[0], 1)).shape"
   ]
  },
  {
   "cell_type": "code",
   "execution_count": 89,
   "id": "3f87006c",
   "metadata": {},
   "outputs": [
    {
     "data": {
      "text/plain": [
       "array([[0., 0.],\n",
       "       [0., 1.],\n",
       "       [1., 0.],\n",
       "       [1., 1.]])"
      ]
     },
     "execution_count": 89,
     "metadata": {},
     "output_type": "execute_result"
    }
   ],
   "source": [
    "X"
   ]
  },
  {
   "cell_type": "code",
   "execution_count": 90,
   "id": "3ef28c48",
   "metadata": {},
   "outputs": [
    {
     "data": {
      "text/plain": [
       "array([[1., 0., 0.],\n",
       "       [1., 0., 1.],\n",
       "       [1., 1., 0.],\n",
       "       [1., 1., 1.]])"
      ]
     },
     "execution_count": 90,
     "metadata": {},
     "output_type": "execute_result"
    }
   ],
   "source": [
    "X_bias"
   ]
  },
  {
   "cell_type": "code",
   "execution_count": 91,
   "id": "e3d709d4",
   "metadata": {},
   "outputs": [
    {
     "data": {
      "text/plain": [
       "array([0., 0., 0.])"
      ]
     },
     "execution_count": 91,
     "metadata": {},
     "output_type": "execute_result"
    }
   ],
   "source": [
    "w"
   ]
  },
  {
   "cell_type": "code",
   "execution_count": 106,
   "id": "f77bcf82",
   "metadata": {},
   "outputs": [
    {
     "name": "stderr",
     "output_type": "stream",
     "text": [
      "100%|██████████| 1000/1000 [00:00<00:00, 114570.30it/s]\n"
     ]
    }
   ],
   "source": [
    "for _ in tqdm(range(num_epochs)):\n",
    "    z = X_bias @ w\n",
    "    preds = sigmoid(z)\n",
    "    error = preds - y\n",
    "    # X_bias.T.shape, error.shape\n",
    "\n",
    "    grad = (X_bias.T @ error) / len(y)\n",
    "    w -= grad * lr"
   ]
  },
  {
   "cell_type": "code",
   "execution_count": 107,
   "id": "a0ebd561",
   "metadata": {},
   "outputs": [],
   "source": [
    "pred_probs = sigmoid(X_bias.dot(w))\n",
    "pred_labels = (pred_probs >= 0.5).astype(int)"
   ]
  },
  {
   "cell_type": "code",
   "execution_count": 110,
   "id": "736f1647",
   "metadata": {},
   "outputs": [
    {
     "data": {
      "text/plain": [
       "array([-2.18359847,  5.36050042,  5.36050042])"
      ]
     },
     "execution_count": 110,
     "metadata": {},
     "output_type": "execute_result"
    }
   ],
   "source": [
    "w"
   ]
  },
  {
   "cell_type": "code",
   "execution_count": 109,
   "id": "dbaaa3fe",
   "metadata": {},
   "outputs": [
    {
     "data": {
      "text/plain": [
       "(array([0, 1, 1, 1]), array([0., 1., 1., 1.]))"
      ]
     },
     "execution_count": 109,
     "metadata": {},
     "output_type": "execute_result"
    }
   ],
   "source": [
    "pred_labels, y"
   ]
  },
  {
   "cell_type": "code",
   "execution_count": null,
   "id": "811f5583",
   "metadata": {},
   "outputs": [],
   "source": []
  }
 ],
 "metadata": {
  "kernelspec": {
   "display_name": "base",
   "language": "python",
   "name": "python3"
  },
  "language_info": {
   "codemirror_mode": {
    "name": "ipython",
    "version": 3
   },
   "file_extension": ".py",
   "mimetype": "text/x-python",
   "name": "python",
   "nbconvert_exporter": "python",
   "pygments_lexer": "ipython3",
   "version": "3.13.2"
  }
 },
 "nbformat": 4,
 "nbformat_minor": 5
}
