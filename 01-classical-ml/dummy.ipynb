{
 "cells": [
  {
   "cell_type": "code",
   "execution_count": 1,
   "id": "169ab9d1",
   "metadata": {},
   "outputs": [],
   "source": [
    "# I have some data points X and the corresponding labels y (0 or 1)\n",
    "\n",
    "# X is a continous data with each data point being a 2 dimensional vector"
   ]
  },
  {
   "cell_type": "code",
   "execution_count": 2,
   "id": "d5c782b1",
   "metadata": {},
   "outputs": [],
   "source": [
    "import numpy as np"
   ]
  },
  {
   "cell_type": "code",
   "execution_count": null,
   "id": "79511b7f",
   "metadata": {},
   "outputs": [],
   "source": []
  },
  {
   "cell_type": "code",
   "execution_count": 22,
   "id": "29329432",
   "metadata": {},
   "outputs": [],
   "source": [
    "np.random.seed(32)\n",
    "x = np.random.rand(2)"
   ]
  },
  {
   "cell_type": "code",
   "execution_count": 64,
   "id": "45d96c79",
   "metadata": {},
   "outputs": [],
   "source": [
    "X = np.random.rand(100, 1)\n",
    "y = np.random.randint(2, size=100)"
   ]
  },
  {
   "cell_type": "code",
   "execution_count": 65,
   "id": "f70b6133",
   "metadata": {},
   "outputs": [
    {
     "data": {
      "text/plain": [
       "array([0.15970447])"
      ]
     },
     "execution_count": 65,
     "metadata": {},
     "output_type": "execute_result"
    }
   ],
   "source": [
    "X[0]"
   ]
  },
  {
   "cell_type": "code",
   "execution_count": 66,
   "id": "e10a8b31",
   "metadata": {},
   "outputs": [],
   "source": [
    "n = len(X) # length of dataset"
   ]
  },
  {
   "cell_type": "code",
   "execution_count": 67,
   "id": "d121b216",
   "metadata": {},
   "outputs": [],
   "source": [
    "dataset = [(X[i], y[i]) for i in range(n)]"
   ]
  },
  {
   "cell_type": "code",
   "execution_count": 68,
   "id": "67106627",
   "metadata": {},
   "outputs": [],
   "source": [
    "import matplotlib.pyplot as plt"
   ]
  },
  {
   "cell_type": "code",
   "execution_count": 72,
   "id": "57a7f58c",
   "metadata": {},
   "outputs": [
    {
     "data": {
      "text/plain": [
       "<matplotlib.collections.PathCollection at 0x127914a10>"
      ]
     },
     "execution_count": 72,
     "metadata": {},
     "output_type": "execute_result"
    },
    {
     "data": {
      "image/png": "[encoded data removed]",
      "text/plain": [
       "<Figure size 640x480 with 1 Axes>"
      ]
     },
     "metadata": {},
     "output_type": "display_data"
    }
   ],
   "source": [
    "plt.scatter(X, y)"
   ]
  },
  {
   "cell_type": "code",
   "execution_count": 73,
   "id": "4927ef1c",
   "metadata": {},
   "outputs": [],
   "source": [
    "def sigmoid(z):\n",
    "    return 1 / (1 + np.exp(-z))\n",
    "    "
   ]
  },
  {
   "cell_type": "code",
   "execution_count": 74,
   "id": "1906ba5b",
   "metadata": {},
   "outputs": [
    {
     "data": {
      "text/plain": [
       "(100, 1)"
      ]
     },
     "execution_count": 74,
     "metadata": {},
     "output_type": "execute_result"
    }
   ],
   "source": [
    "X.shape"
   ]
  },
  {
   "cell_type": "code",
   "execution_count": 75,
   "id": "8205f04d",
   "metadata": {},
   "outputs": [
    {
     "data": {
      "text/plain": [
       "(1,)"
      ]
     },
     "execution_count": 75,
     "metadata": {},
     "output_type": "execute_result"
    }
   ],
   "source": [
    "np.zeros(1).shape"
   ]
  },
  {
   "cell_type": "code",
   "execution_count": 76,
   "id": "4580dde7",
   "metadata": {},
   "outputs": [],
   "source": [
    "def fit(X, y, lr=0.01, epochs=100, lambda_penalty=0.0001):\n",
    "    n, p = X.shape\n",
    "    W = np.zeros(p)\n",
    "    for _ in range(epochs):\n",
    "        z = X @ W\n",
    "        pred = sigmoid(z)\n",
    "        \n",
    "        # loss = y * np.log(pred) + (1-y) * np.log(1-pred) + lambda_penalty * W\n",
    "        \n",
    "        grad = (X.T @ (pred-y)) / n + lambda_penalty * W\n",
    "        \n",
    "        W -= grad * lr\n",
    "    return W\n",
    "        \n",
    "        "
   ]
  },
  {
   "cell_type": "code",
   "execution_count": 77,
   "id": "aa0ec00e",
   "metadata": {},
   "outputs": [],
   "source": [
    "def predict_proba(X, W):\n",
    "    return sigmoid(X @ W)"
   ]
  },
  {
   "cell_type": "code",
   "execution_count": 87,
   "id": "98f079e4",
   "metadata": {},
   "outputs": [],
   "source": [
    "X_train, y_train = X[:80], y[:80]\n",
    "X_test, y_test = X[81:], y[81:]"
   ]
  },
  {
   "cell_type": "code",
   "execution_count": null,
   "id": "30720b49",
   "metadata": {},
   "outputs": [
    {
     "data": {
      "text/plain": [
       "(100,)"
      ]
     },
     "execution_count": 86,
     "metadata": {},
     "output_type": "execute_result"
    }
   ],
   "source": []
  },
  {
   "cell_type": "code",
   "execution_count": null,
   "id": "8c9c5707",
   "metadata": {},
   "outputs": [],
   "source": [
    "X_train = train[0]"
   ]
  }
 ],
 "metadata": {
  "kernelspec": {
   "display_name": "base",
   "language": "python",
   "name": "python3"
  },
  "language_info": {
   "codemirror_mode": {
    "name": "ipython",
    "version": 3
   },
   "file_extension": ".py",
   "mimetype": "text/x-python",
   "name": "python",
   "nbconvert_exporter": "python",
   "pygments_lexer": "ipython3",
   "version": "3.11.7"
  }
 },
 "nbformat": 4,
 "nbformat_minor": 5
}
